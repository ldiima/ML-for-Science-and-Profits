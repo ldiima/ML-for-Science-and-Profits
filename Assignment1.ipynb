{
 "cells": [
  {
   "cell_type": "code",
   "execution_count": 1,
   "id": "d5650a7c",
   "metadata": {},
   "outputs": [],
   "source": [
    "import pandas as pd\n",
    "import numpy as np\n",
    "import matplotlib.pyplot as plt\n",
    "from sklearn import datasets, linear_model\n",
    "from sklearn.metrics import mean_squared_error, r2_score\n",
    "from sklearn.svm import SVC\n",
    "%matplotlib inline"
   ]
  },
  {
   "cell_type": "markdown",
   "id": "a45c0abf",
   "metadata": {},
   "source": [
    "### 1. Moore's Law\n",
    "Use the scripts from [here](https://github.com/preshing/analyze-spec-benchmarks) to download a large amount of data relating to CPU specs. The scripts might take as long as an hour, depending on your connection speed. (Pay attention to the line \"If you want to skip the steps in this section, you can simply download the aggregated result files from http://preshing.com/files/specdata20120207.zip and extract them to this folder.\" This will be faster and save you some troubles while providing the same dataset.)"
   ]
  },
  {
   "cell_type": "code",
   "execution_count": 2,
   "id": "8b5d9c39",
   "metadata": {},
   "outputs": [
    {
     "name": "stderr",
     "output_type": "stream",
     "text": [
      "/Library/Frameworks/Python.framework/Versions/3.9/lib/python3.9/site-packages/IPython/core/interactiveshell.py:3441: DtypeWarning: Columns (3) have mixed types.Specify dtype option on import or set low_memory=False.\n",
      "  exec(code_obj, self.user_global_ns, self.user_ns)\n"
     ]
    }
   ],
   "source": [
    "cpu_data = pd.read_table('/Users/Dima/Downloads/ML/cs156-pcw-ldiima/02/specdata20120207/benchmarks.txt',sep=',')"
   ]
  },
  {
   "cell_type": "markdown",
   "id": "b38d3cb1",
   "metadata": {},
   "source": [
    "Now do the following:\n",
    "\n",
    "- Extract the date and base speed for a benchmark of your choice.\n",
    "- Plot the data in a semi-log plot.\n",
    "- Now train a linear model to fit your plot.\n",
    "- How well is Moore's Law holding up?"
   ]
  },
  {
   "cell_type": "code",
   "execution_count": 3,
   "id": "05c37b04",
   "metadata": {},
   "outputs": [
    {
     "name": "stdout",
     "output_type": "stream",
     "text": [
      "099.go\n"
     ]
    }
   ],
   "source": [
    "swim_data=cpu_data.loc[cpu_data['benchName']==\"102.swim\"]\n",
    "\n",
    "# calculate the number of days between two dates\n",
    "def days_between(d1, d2):\n",
    "    d1 = datetime.strptime(d1, \"%Y-%m-%d\")\n",
    "    d2 = datetime.strptime(d2, \"%Y-%m-%d\")\n",
    "    return abs((d2 - d1).days)\n",
    "\n",
    "benchmark = cpu_data['benchName'].unique()[10]\n",
    "\n",
    "print(benchmark) #099.go\n",
    "\n",
    "# extract date from test ID\n",
    "go_data = cpu_data[(cpu_data['benchName'] == benchmark) & (cpu_data['testID'].str.startswith('cpu'))][['testID','base']]\n",
    "\n",
    "go_data['testID'] = go_data['testID'].str[6:-6]\n",
    "go_data['testID'] = pd.to_datetime(go_data['testID'])\n",
    "\n",
    "#convert date to days\n",
    "go_data['testID'] = go_data['testID'].map(lambda testID : ((testID - min(go_data['testID'])).days))\n",
    "\n",
    "#convert base time to log\n",
    "go_data['base'] = go_data['base'].astype(float)\n",
    "go_data['logbase'] = np.log(go_data['base'])"
   ]
  },
  {
   "cell_type": "code",
   "execution_count": 4,
   "id": "cfad8835",
   "metadata": {},
   "outputs": [
    {
     "data": {
      "image/png": "[encoded data removed]",
      "text/plain": [
       "<Figure size 432x288 with 1 Axes>"
      ]
     },
     "metadata": {
      "needs_background": "light"
     },
     "output_type": "display_data"
    }
   ],
   "source": [
    "plt.scatter(go_data['testID'],go_data['logbase'])\n",
    "plt.show()"
   ]
  },
  {
   "cell_type": "code",
   "execution_count": 5,
   "id": "349d7e67",
   "metadata": {},
   "outputs": [
    {
     "name": "stdout",
     "output_type": "stream",
     "text": [
      "Coefficients: \n",
      " [[0.00119394]]\n",
      "Mean squared error: 0.15\n",
      "Coefficient of determination: 0.09\n",
      "Coefficients: \n",
      " [[0.00119394]]\n"
     ]
    },
    {
     "data": {
      "image/png": "[encoded data removed]",
      "text/plain": [
       "<Figure size 432x288 with 1 Axes>"
      ]
     },
     "metadata": {
      "needs_background": "light"
     },
     "output_type": "display_data"
    }
   ],
   "source": [
    "from sklearn.linear_model import LinearRegression\n",
    "\n",
    "# split data into training and test sets\n",
    "x_train = go_data['testID'][:-400]\n",
    "x_test = go_data['testID'][-400:]\n",
    "\n",
    "# split targets into training and test sets\n",
    "y_train = go_data['logbase'][:-400]\n",
    "y_test = go_data['logbase'][-400:]\n",
    "\n",
    "x_train = np.array(go_data['testID'][:494]).reshape(494, -1)\n",
    "y_train = np.array(go_data['logbase'][:494]).reshape(494,-1)\n",
    "x_test = np.array(go_data['testID'][400:]).reshape(94, -1)\n",
    "y_test = np.array(go_data['logbase'][400:]).reshape(94,-1)\n",
    "\n",
    "# create a linear regression object\n",
    "regr = linear_model.LinearRegression()\n",
    "\n",
    "# train the model using the training sets\n",
    "regr.fit(x_train, y_train)\n",
    "\n",
    "# make predictions using the testing set\n",
    "# y_pred = regr.predict(x_train)\n",
    "# y_pred = np.append(y_pred, regression.predict(x_test))\n",
    "y_pred = regr.predict(x_test)\n",
    "\n",
    "# The coefficients\n",
    "print('Coefficients: \\n', regr.coef_)\n",
    "# The mean squared error\n",
    "print('Mean squared error: %.2f'\n",
    "      % mean_squared_error(y_test, y_pred))\n",
    "# The coefficient of determination: 1 is perfect prediction\n",
    "print('Coefficient of determination: %.2f'\n",
    "      % r2_score(y_test, y_pred))\n",
    "\n",
    "print('Coefficients: \\n', regr.coef_)\n",
    "\n",
    "# Plot\n",
    "plt.scatter(x_test, y_test)\n",
    "plt.plot(x_test, y_pred, color='red', linewidth=2)\n",
    "plt.show()"
   ]
  },
  {
   "cell_type": "markdown",
   "id": "b3ea240f",
   "metadata": {},
   "source": [
    "### 2. MNIST Digits\n",
    "No machine learning course would be complete without using the MNIST dataset. This dataset was a hugely influential dataset of handwriting digits (0-9).\n",
    "\n",
    "- Using scikit-learn, load the MNIST digits (see [here](http://scikit-learn.org/stable/modules/generated/sklearn.datasets.load_digits.html#sklearn.datasets.load_digits)).\n",
    "- Plot some of the examples.\n",
    "- Choose two digit classes (e.g. 7s and 3s), and train a k-nearest neighbor classifier.\n",
    "- Report your error rates on a held out part of the data.\n",
    "(optional) Test your model on the full dataset (available from [here](http://yann.lecun.com/exdb/mnist/)).\n",
    "\n",
    "Keep a record of your figures and results, and make sure that they are easily accessible when you come to class (e.g. be able to state your error rate, or paste your code/figure into a group doc.)"
   ]
  },
  {
   "cell_type": "code",
   "execution_count": 31,
   "id": "f77287af",
   "metadata": {},
   "outputs": [],
   "source": [
    "from sklearn.neighbors import KNeighborsClassifier\n",
    "from sklearn.metrics import classification_report\n",
    "import matplotlib.pyplot as plt\n",
    "import seaborn as sns\n",
    "from matplotlib.colors import ListedColormap\n",
    "from sklearn import neighbors, datasets\n",
    "from sklearn.datasets import load_digits"
   ]
  },
  {
   "cell_type": "code",
   "execution_count": 32,
   "id": "475e7659",
   "metadata": {},
   "outputs": [
    {
     "name": "stdout",
     "output_type": "stream",
     "text": [
      "1797\n",
      "error rate for digits 0 and 1: 1.0\n"
     ]
    }
   ],
   "source": [
    "digits = datasets.load_digits()\n",
    "print(len(digits.target)) #1797\n",
    "data, target = digits.images.reshape((1797,-1)), digits.target\n",
    "\n",
    "two_digits = np.where((target == 0 ) | (target == 1))\n",
    "\n",
    "data_train, target_train = data[two_digits][:250],target[two_digits][:250]\n",
    "data_test,target_test = data[two_digits][250:],target[two_digits][250:]\n",
    "\n",
    "neigh = KNeighborsClassifier(n_neighbors=3)\n",
    "neigh.fit(data_train, target_train)\n",
    "target_pred = neigh.predict(data_test)\n",
    "err = target_pred - target_test\n",
    "error_rate = (len(target_test)-sum(err>0))/len(target_pred)\n",
    "print(\"error rate for digits 0 and 1:\", error_rate)"
   ]
  },
  {
   "cell_type": "code",
   "execution_count": 35,
   "id": "3d525bbb",
   "metadata": {},
   "outputs": [
    {
     "name": "stdout",
     "output_type": "stream",
     "text": [
      "error rate for digits 3 and 5: 1\n"
     ]
    }
   ],
   "source": [
    "digits = datasets.load_digits()\n",
    "data, target = digits.images.reshape((1797,-1)), digits.target\n",
    "\n",
    "two_digits = np.where((target == 3 ) | (target == 5))\n",
    "\n",
    "data_train, target_train = data[two_digits][:250],target[two_digits][:250]\n",
    "data_test,target_test = data[two_digits][250:],target[two_digits][250:]\n",
    "\n",
    "neigh = KNeighborsClassifier(n_neighbors=7)\n",
    "neigh.fit(data_train, target_train)\n",
    "target_pred = neigh.predict(data_test)\n",
    "err = target_pred - target_test\n",
    "error_rate = (len(target_test)-sum(err>0))/len(target_pred)\n",
    "print(\"error rate for digits 3 and 5:\", sum(err>0))"
   ]
  }
 ],
 "metadata": {
  "kernelspec": {
   "display_name": "Python 3 (ipykernel)",
   "language": "python",
   "name": "python3"
  },
  "language_info": {
   "codemirror_mode": {
    "name": "ipython",
    "version": 3
   },
   "file_extension": ".py",
   "mimetype": "text/x-python",
   "name": "python",
   "nbconvert_exporter": "python",
   "pygments_lexer": "ipython3",
   "version": "3.9.1"
  }
 },
 "nbformat": 4,
 "nbformat_minor": 5
}
