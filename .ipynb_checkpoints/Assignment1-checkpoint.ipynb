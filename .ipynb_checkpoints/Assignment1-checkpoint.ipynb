{
 "cells": [
  {
   "cell_type": "code",
   "execution_count": 1,
   "id": "d5650a7c",
   "metadata": {},
   "outputs": [],
   "source": [
    "import pandas as pd\n",
    "import numpy as np\n",
    "import matplotlib.pyplot as plt\n",
    "from sklearn import datasets, linear_model\n",
    "from sklearn.linear_model import LinearRegression\n",
    "from sklearn.metrics import mean_squared_error, r2_score\n",
    "from sklearn.model_selection import train_test_split, cross_val_score\n",
    "from sklearn.svm import SVC\n",
    "%matplotlib inline"
   ]
  },
  {
   "cell_type": "markdown",
   "id": "a45c0abf",
   "metadata": {},
   "source": [
    "# 1. Moore's Law\n",
    "\n",
    "### Download Data"
   ]
  },
  {
   "cell_type": "code",
   "execution_count": 2,
   "id": "8b5d9c39",
   "metadata": {
    "scrolled": true
   },
   "outputs": [
    {
     "name": "stderr",
     "output_type": "stream",
     "text": [
      "/Library/Frameworks/Python.framework/Versions/3.9/lib/python3.9/site-packages/IPython/core/interactiveshell.py:3441: DtypeWarning: Columns (3) have mixed types.Specify dtype option on import or set low_memory=False.\n",
      "  exec(code_obj, self.user_global_ns, self.user_ns)\n"
     ]
    },
    {
     "data": {
      "text/html": [
       "<div>\n",
       "<style scoped>\n",
       "    .dataframe tbody tr th:only-of-type {\n",
       "        vertical-align: middle;\n",
       "    }\n",
       "\n",
       "    .dataframe tbody tr th {\n",
       "        vertical-align: top;\n",
       "    }\n",
       "\n",
       "    .dataframe thead th {\n",
       "        text-align: right;\n",
       "    }\n",
       "</style>\n",
       "<table border=\"1\" class=\"dataframe\">\n",
       "  <thead>\n",
       "    <tr style=\"text-align: right;\">\n",
       "      <th></th>\n",
       "      <th>testID</th>\n",
       "      <th>benchName</th>\n",
       "      <th>base</th>\n",
       "      <th>peak</th>\n",
       "    </tr>\n",
       "  </thead>\n",
       "  <tbody>\n",
       "    <tr>\n",
       "      <th>0</th>\n",
       "      <td>cpu95-19990104-03254</td>\n",
       "      <td>101.tomcatv</td>\n",
       "      <td>19.40</td>\n",
       "      <td>27.1</td>\n",
       "    </tr>\n",
       "    <tr>\n",
       "      <th>1</th>\n",
       "      <td>cpu95-19990104-03254</td>\n",
       "      <td>102.swim</td>\n",
       "      <td>27.20</td>\n",
       "      <td>34.8</td>\n",
       "    </tr>\n",
       "    <tr>\n",
       "      <th>2</th>\n",
       "      <td>cpu95-19990104-03254</td>\n",
       "      <td>103.su2cor</td>\n",
       "      <td>10.10</td>\n",
       "      <td>9.98</td>\n",
       "    </tr>\n",
       "    <tr>\n",
       "      <th>3</th>\n",
       "      <td>cpu95-19990104-03254</td>\n",
       "      <td>104.hydro2d</td>\n",
       "      <td>8.58</td>\n",
       "      <td>8.61</td>\n",
       "    </tr>\n",
       "    <tr>\n",
       "      <th>4</th>\n",
       "      <td>cpu95-19990104-03254</td>\n",
       "      <td>107.mgrid</td>\n",
       "      <td>8.94</td>\n",
       "      <td>9.44</td>\n",
       "    </tr>\n",
       "  </tbody>\n",
       "</table>\n",
       "</div>"
      ],
      "text/plain": [
       "                 testID    benchName   base  peak\n",
       "0  cpu95-19990104-03254  101.tomcatv  19.40  27.1\n",
       "1  cpu95-19990104-03254     102.swim  27.20  34.8\n",
       "2  cpu95-19990104-03254   103.su2cor  10.10  9.98\n",
       "3  cpu95-19990104-03254  104.hydro2d   8.58  8.61\n",
       "4  cpu95-19990104-03254    107.mgrid   8.94  9.44"
      ]
     },
     "execution_count": 2,
     "metadata": {},
     "output_type": "execute_result"
    }
   ],
   "source": [
    "cpu_data = pd.read_table('specdata20120207/benchmarks.txt',sep=',')\n",
    "cpu_data.head()"
   ]
  },
  {
   "cell_type": "markdown",
   "id": "b38d3cb1",
   "metadata": {},
   "source": [
    "### 1. Extract the date and base speed for a benchmark of your choice."
   ]
  },
  {
   "cell_type": "code",
   "execution_count": 3,
   "id": "2dc48d74",
   "metadata": {},
   "outputs": [
    {
     "data": {
      "text/plain": [
       "array(['101.tomcatv', '102.swim', '103.su2cor', '104.hydro2d',\n",
       "       '107.mgrid', '110.applu', '125.turb3d', '141.apsi', '145.fpppp',\n",
       "       '146.wave5', '099.go', '124.m88ksim', '126.gcc', '129.compress',\n",
       "       '130.li', '132.ijpeg', '134.perl', '147.vortex', '168.wupwise',\n",
       "       '171.swim', '172.mgrid', '173.applu', '177.mesa', '178.galgel',\n",
       "       '179.art', '183.equake', '187.facerec', '188.ammp', '189.lucas',\n",
       "       '191.fma3d', '200.sixtrack', '301.apsi', '164.gzip', '175.vpr',\n",
       "       '176.gcc', '181.mcf', '186.crafty', '197.parser', '252.eon',\n",
       "       '253.perlbmk', '254.gap', '255.vortex', '256.bzip2', '300.twolf',\n",
       "       '400.perlbench', '401.bzip2', '403.gcc', '429.mcf', '445.gobmk',\n",
       "       '456.hmmer', '458.sjeng', '462.libquantum', '464.h264ref',\n",
       "       '471.omnetpp', '473.astar', '483.xalancbmk', '410.bwaves',\n",
       "       '416.gamess', '433.milc', '434.zeusmp', '435.gromacs',\n",
       "       '436.cactusADM', '437.leslie3d', '444.namd', '447.dealII',\n",
       "       '450.soplex', '453.povray', '454.calculix', '459.GemsFDTD',\n",
       "       '465.tonto', '470.lbm', '481.wrf', '482.sphinx3'], dtype=object)"
      ]
     },
     "execution_count": 3,
     "metadata": {},
     "output_type": "execute_result"
    }
   ],
   "source": [
    "pd.unique(cpu_data.benchName) # to see what bases the data have"
   ]
  },
  {
   "cell_type": "code",
   "execution_count": 4,
   "id": "05c37b04",
   "metadata": {},
   "outputs": [
    {
     "name": "stdout",
     "output_type": "stream",
     "text": [
      "099.go\n"
     ]
    }
   ],
   "source": [
    "# calculate the number of days between two dates\n",
    "def days_between(d1, d2):\n",
    "    d1 = datetime.strptime(d1, \"%Y-%m-%d\")\n",
    "    d2 = datetime.strptime(d2, \"%Y-%m-%d\")\n",
    "    return abs((d2 - d1).days)\n",
    "\n",
    "# set a benchmark at 099.go\n",
    "benchmark = cpu_data['benchName'].unique()[10]\n",
    "print(benchmark) \n",
    "\n",
    "# extract base and date data\n",
    "go_data = cpu_data[(cpu_data['benchName'] == benchmark) & (cpu_data['testID'].str.startswith('cpu'))][['testID','base']]\n",
    "\n",
    "go_data['testID'] = go_data['testID'].str[6:-6]\n",
    "go_data['testID'] = pd.to_datetime(go_data['testID'])\n",
    "\n",
    "# convert date to days\n",
    "go_data['testID'] = go_data['testID'].map(lambda testID : ((testID - min(go_data['testID'])).days))"
   ]
  },
  {
   "cell_type": "markdown",
   "id": "286e1975",
   "metadata": {},
   "source": [
    "### 2. Plot the data in a semi-log plot."
   ]
  },
  {
   "cell_type": "code",
   "execution_count": 5,
   "id": "cfad8835",
   "metadata": {
    "scrolled": false
   },
   "outputs": [
    {
     "data": {
      "image/png": "[encoded data removed]",
      "text/plain": [
       "<Figure size 432x288 with 1 Axes>"
      ]
     },
     "metadata": {
      "needs_background": "light"
     },
     "output_type": "display_data"
    }
   ],
   "source": [
    "# convert base time to log\n",
    "go_data['base'] = go_data['base'].astype(float)\n",
    "go_data['logbase'] = np.log(go_data['base'])\n",
    "\n",
    "plt.scatter(go_data['testID'],go_data['logbase'], 8)\n",
    "plt.show()"
   ]
  },
  {
   "cell_type": "markdown",
   "id": "3e8c5abe",
   "metadata": {},
   "source": [
    "### 3. Train a linear model to fit your plot.\n",
    "\n",
    "Referece: https://scikit-learn.org/stable/auto_examples/linear_model/plot_ols.html"
   ]
  },
  {
   "cell_type": "code",
   "execution_count": 6,
   "id": "349d7e67",
   "metadata": {},
   "outputs": [
    {
     "data": {
      "image/png": "[encoded data removed]",
      "text/plain": [
       "<Figure size 432x288 with 1 Axes>"
      ]
     },
     "metadata": {
      "needs_background": "light"
     },
     "output_type": "display_data"
    }
   ],
   "source": [
    "# split data into training and test sets\n",
    "x_samples = len(go_data['testID'])\n",
    "y_samples = len(go_data['logbase'])\n",
    "\n",
    "x = np.array(go_data['testID']).reshape(x_samples, 1)\n",
    "y = np.array(go_data['logbase']).reshape(y_samples, 1)\n",
    "\n",
    "# split dataset into train and test subsets\n",
    "x_train, x_test, y_train, y_test = train_test_split(x, y, test_size=0.3)\n",
    "\n",
    "# create a linear regression object\n",
    "regr = linear_model.LinearRegression()\n",
    "\n",
    "# train the model using the training sets\n",
    "regr.fit(x_train, y_train)\n",
    "\n",
    "# make predictions using the testing set\n",
    "y_pred = regr.predict(x_test)\n",
    "\n",
    "# Plot\n",
    "plt.scatter(x_test, y_test, 8)\n",
    "plt.plot(x_test, y_pred, color='red', linewidth=2)\n",
    "plt.show()"
   ]
  },
  {
   "cell_type": "markdown",
   "id": "f834adea",
   "metadata": {},
   "source": [
    "### 4. How well is Moore’s law holding up?"
   ]
  },
  {
   "cell_type": "code",
   "execution_count": 7,
   "id": "ee980438",
   "metadata": {},
   "outputs": [
    {
     "name": "stdout",
     "output_type": "stream",
     "text": [
      "Coefficients: \n",
      " [[0.00116681]]\n",
      "Mean Squared Error (MSE): 0.16\n",
      "Coefficient of determination (R^2): 0.70\n",
      "Median Absolute Error (MAS): 0.25\n",
      "Mean Absolute Error (MAE): 0.30\n"
     ]
    }
   ],
   "source": [
    "# The coefficients\n",
    "print('Coefficients: \\n', regr.coef_)\n",
    "\n",
    "# The Mean Squared Error (MSE)\n",
    "mse = mean_squared_error(y_test, y_pred)\n",
    "print('Mean Squared Error (MSE): %.2f' % mse)\n",
    "\n",
    "# The coefficient of determination (R^2): 1 is perfect prediction\n",
    "r2 = r2_score(y_test, y_pred)\n",
    "print('Coefficient of determination (R^2): %.2f'% r2)\n",
    "\n",
    "# The Median Absolute Error\n",
    "mas = np.median(abs(y_test-y_pred))\n",
    "print('Median Absolute Error (MAS): %.2f' % mas)\n",
    "\n",
    "# The Mean Absolute Error\n",
    "mae = np.mean(abs(y_test-y_pred))\n",
    "print('Mean Absolute Error (MAE): %.2f' % mae)"
   ]
  },
  {
   "cell_type": "code",
   "execution_count": 8,
   "id": "737b40d2",
   "metadata": {},
   "outputs": [
    {
     "data": {
      "image/png": "[encoded data removed]",
      "text/plain": [
       "<Figure size 432x288 with 1 Axes>"
      ]
     },
     "metadata": {
      "needs_background": "light"
     },
     "output_type": "display_data"
    }
   ],
   "source": [
    "# histogram of errors\n",
    "# a series of absolute errors\n",
    "absErrors = abs(y_test-y_pred)\n",
    "\n",
    "# show mean absolute error in red\n",
    "plt.axvline(x=mas, color = 'red')\n",
    "\n",
    "# show median absolute error in yellow\n",
    "plt.axvline(x=mae, color = 'yellow')\n",
    "\n",
    "plt.xlabel('Smarts')\n",
    "plt.ylabel('Probability')\n",
    "plt.title('Histogram of IQ')\n",
    "\n",
    "plt.hist(absErrors, color = 'grey')\n",
    "plt.show()"
   ]
  },
  {
   "cell_type": "markdown",
   "id": "22fc37c4",
   "metadata": {},
   "source": [
    "Given the MSE and R^2, we see that the Moore's law is holding up ok. We have the coefficient of determination (R^2) around 0.7 which suggests that around 70% of points fall within or explained by the regression line. All the MSE, MedAE, MAE are equal to or below 0.3 which suggests that overall, the true value and the measured value have small amount of differences between them. The Median Absolute Error is higher than Mean Absolute Error — it suggests that the errors are skewed to the left meaning there are few outliers. The histogram visualized above supports this. "
   ]
  },
  {
   "cell_type": "markdown",
   "id": "b3ea240f",
   "metadata": {},
   "source": [
    "# 2. MNIST Digits\n",
    "No machine learning course would be complete without using the MNIST dataset. This dataset was a hugely influential dataset of handwriting digits (0-9).\n",
    "\n",
    "### 1. Using scikit-learn, load the MNIST digits (see [here](http://scikit-learn.org/stable/modules/generated/sklearn.datasets.load_digits.html#sklearn.datasets.load_digits))."
   ]
  },
  {
   "cell_type": "code",
   "execution_count": 9,
   "id": "f77287af",
   "metadata": {},
   "outputs": [],
   "source": [
    "from sklearn.neighbors import KNeighborsClassifier\n",
    "from sklearn.metrics import classification_report\n",
    "import matplotlib.pyplot as plt\n",
    "import seaborn as sns\n",
    "from matplotlib.colors import ListedColormap\n",
    "from sklearn import neighbors, datasets\n",
    "from sklearn.datasets import load_digits\n",
    "from sklearn.metrics import accuracy_score, average_precision_score"
   ]
  },
  {
   "cell_type": "code",
   "execution_count": 10,
   "id": "475e7659",
   "metadata": {},
   "outputs": [
    {
     "name": "stdout",
     "output_type": "stream",
     "text": [
      "(1797, 64)\n"
     ]
    }
   ],
   "source": [
    "digits = datasets.load_digits()\n",
    "print(digits.data.shape)"
   ]
  },
  {
   "cell_type": "markdown",
   "id": "0d53e896",
   "metadata": {},
   "source": [
    "### 2. Plot some of the examples."
   ]
  },
  {
   "cell_type": "code",
   "execution_count": 11,
   "id": "f6b5370e",
   "metadata": {},
   "outputs": [
    {
     "data": {
      "image/png": "[encoded data removed]",
      "text/plain": [
       "<Figure size 720x216 with 4 Axes>"
      ]
     },
     "metadata": {
      "needs_background": "light"
     },
     "output_type": "display_data"
    }
   ],
   "source": [
    "_, axes = plt.subplots(nrows=1, ncols=4, figsize=(10, 3))\n",
    "for ax, image, label in zip(axes, digits.images, digits.target):\n",
    "    ax.set_axis_off()\n",
    "    ax.imshow(image, cmap=plt.cm.gray_r, interpolation='nearest')\n",
    "    ax.set_title('Training: %i' % label)"
   ]
  },
  {
   "cell_type": "code",
   "execution_count": 12,
   "id": "228ce220",
   "metadata": {},
   "outputs": [],
   "source": [
    "data, target = digits.images.reshape((1797,-1)), digits.target"
   ]
  },
  {
   "cell_type": "markdown",
   "id": "21c67a58",
   "metadata": {},
   "source": [
    "### 3. Choose two digit classes (e.g. 7s and 3s), and train a k-nearest neighbor classifier."
   ]
  },
  {
   "cell_type": "code",
   "execution_count": 13,
   "id": "3d525bbb",
   "metadata": {},
   "outputs": [
    {
     "name": "stdout",
     "output_type": "stream",
     "text": [
      "(285, 64) (72, 64) (285,) (72,)\n"
     ]
    }
   ],
   "source": [
    "# choosing 3 and 5\n",
    "two_digits = np.where((target == 3) | (target == 8))\n",
    "\n",
    "data_train, data_test, target_train, target_test = train_test_split(data[two_digits], target[two_digits], test_size=0.2)\n",
    "print(data_train.shape, data_test.shape, target_train.shape, target_test.shape)"
   ]
  },
  {
   "cell_type": "code",
   "execution_count": 14,
   "id": "b4bd31fd",
   "metadata": {},
   "outputs": [],
   "source": [
    "# create KNN classifier with K=5\n",
    "neigh = KNeighborsClassifier(n_neighbors=5)\n",
    "neigh.fit(data_train, target_train)\n",
    "\n",
    "# predict results\n",
    "target_pred = neigh.predict(data_test)"
   ]
  },
  {
   "cell_type": "markdown",
   "id": "0b8fa306",
   "metadata": {},
   "source": [
    "### 4. Report your error rates on a held out part of the data."
   ]
  },
  {
   "cell_type": "code",
   "execution_count": 15,
   "id": "e83553b1",
   "metadata": {
    "scrolled": false
   },
   "outputs": [
    {
     "name": "stdout",
     "output_type": "stream",
     "text": [
      "Error rate (for digits 3 and 8): 0.01388888888888884\n",
      "Accuracy score is 0.986\n",
      "              precision    recall  f1-score   support\n",
      "\n",
      "           3       1.00      0.97      0.99        39\n",
      "           8       0.97      1.00      0.99        33\n",
      "\n",
      "    accuracy                           0.99        72\n",
      "   macro avg       0.99      0.99      0.99        72\n",
      "weighted avg       0.99      0.99      0.99        72\n",
      "\n"
     ]
    }
   ],
   "source": [
    "error_rate = 1 - sum(target_pred == target_test)/len(target_pred)\n",
    "print(\"Error rate (for digits 3 and 8):\", error_rate)\n",
    "\n",
    "# Accuracy\n",
    "accuracy = accuracy_score(target_test, target_pred)\n",
    "print('Accuracy score is %.3f' %accuracy)\n",
    "\n",
    "print(classification_report(target_test, target_pred, labels=[3, 8]))"
   ]
  },
  {
   "cell_type": "markdown",
   "id": "cf22ec94",
   "metadata": {},
   "source": [
    "As most digits look quite distinct, I was getting error rate of 0 (e.g. for digits 1 and 2 or 3 and 5). Therefore, to test similar-looking digits and get non-zero error rates, I chose 3 and 8. The error rate for these digits is 0.013 making the accuracy rate 0.986. It means that the KNN model got 98.6% right when classifying digits 3 and 8.\n",
    "\n",
    "Furthermore, for digit 3, we get 1 for precision and 0.97 for recall, meaning that 100% of all identifications of 3 was correct (no False Positives) and 97% actual 8s were identified correctly (there were some False Negatives, meaning that some digits that were idenfied as 3 were in fact 3).\n",
    "\n",
    "For digit 8, it's the other way around. We get 0.97 for precision and 1 for recall. It means that 97% of identification of 8 was actually correct (there were some False Positives that some digits that were identified as 8 were in fact 3) and 100% of actual 8's were identified (There wasn't any False Negatives).\n",
    "\n",
    "------------------"
   ]
  },
  {
   "cell_type": "markdown",
   "id": "d5d88f22",
   "metadata": {},
   "source": [
    "Here, instead of using a random hyperparameter K, I tune it using cross validation and train the model again."
   ]
  },
  {
   "cell_type": "code",
   "execution_count": 16,
   "id": "55c157d3",
   "metadata": {},
   "outputs": [],
   "source": [
    "# creating a random list of K for KNN\n",
    "neighbors = list(range(1, 50, 2))\n",
    "\n",
    "# empty list that will hold cv scores\n",
    "cv_scores = []\n",
    "\n",
    "# perform 10-fold cross validation\n",
    "for k in neighbors:\n",
    "    knn = KNeighborsClassifier(n_neighbors=k)\n",
    "    scores = cross_val_score(knn, data_train, target_train, cv=10, scoring='accuracy')\n",
    "    cv_scores.append(scores.mean())"
   ]
  },
  {
   "cell_type": "code",
   "execution_count": 17,
   "id": "3f72ccde",
   "metadata": {},
   "outputs": [
    {
     "name": "stdout",
     "output_type": "stream",
     "text": [
      "The optimal number of neighbors is 1.\n"
     ]
    },
    {
     "data": {
      "image/png": "[encoded data removed]",
      "text/plain": [
       "<Figure size 432x288 with 1 Axes>"
      ]
     },
     "metadata": {
      "needs_background": "light"
     },
     "output_type": "display_data"
    }
   ],
   "source": [
    "# changing to misclassification error\n",
    "mse = [1 - x for x in cv_scores]\n",
    "\n",
    "# determining best k\n",
    "optimal_k = neighbors[mse.index(min(mse))]\n",
    "print(\"The optimal number of neighbors is {}.\".format(optimal_k))\n",
    "\n",
    "# plot misclassification error vs k\n",
    "plt.plot(neighbors, mse)\n",
    "plt.xlabel(\"Number of Neighbors K\")\n",
    "plt.ylabel(\"Misclassification Error\")\n",
    "plt.show()"
   ]
  },
  {
   "cell_type": "code",
   "execution_count": 18,
   "id": "3352dd97",
   "metadata": {},
   "outputs": [],
   "source": [
    "# create KNN classifier with K=1\n",
    "neigh = KNeighborsClassifier(n_neighbors=1)\n",
    "neigh.fit(data_train, target_train)\n",
    "\n",
    "# predict results\n",
    "target_pred = neigh.predict(data_test)"
   ]
  },
  {
   "cell_type": "code",
   "execution_count": 19,
   "id": "816527e2",
   "metadata": {},
   "outputs": [
    {
     "name": "stdout",
     "output_type": "stream",
     "text": [
      "Error rate (for digits 3 and 8): 0.0\n",
      "Accuracy score is 1.000\n",
      "              precision    recall  f1-score   support\n",
      "\n",
      "           3       1.00      1.00      1.00        39\n",
      "           8       1.00      1.00      1.00        33\n",
      "\n",
      "    accuracy                           1.00        72\n",
      "   macro avg       1.00      1.00      1.00        72\n",
      "weighted avg       1.00      1.00      1.00        72\n",
      "\n"
     ]
    }
   ],
   "source": [
    "error_rate = 1 - sum(target_pred == target_test)/len(target_pred)\n",
    "print(\"Error rate (for digits 3 and 8):\", error_rate)\n",
    "\n",
    "# Accuracy\n",
    "accuracy = accuracy_score(target_test, target_pred)\n",
    "print('Accuracy score is %.3f' %accuracy)\n",
    "\n",
    "print(classification_report(target_test, target_pred, labels=[3, 8]))"
   ]
  },
  {
   "cell_type": "markdown",
   "id": "2539a7af",
   "metadata": {},
   "source": [
    "With optimal rate of K , we get 1 for the accuracy score meaning that our KNN model classified 3 and 8 100% correct this time."
   ]
  }
 ],
 "metadata": {
  "kernelspec": {
   "display_name": "Python 3 (ipykernel)",
   "language": "python",
   "name": "python3"
  },
  "language_info": {
   "codemirror_mode": {
    "name": "ipython",
    "version": 3
   },
   "file_extension": ".py",
   "mimetype": "text/x-python",
   "name": "python",
   "nbconvert_exporter": "python",
   "pygments_lexer": "ipython3",
   "version": "3.9.1"
  }
 },
 "nbformat": 4,
 "nbformat_minor": 5
}
